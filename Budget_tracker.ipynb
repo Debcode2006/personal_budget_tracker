{
 "cells": [
  {
   "cell_type": "code",
   "execution_count": 1,
   "id": "1141bb4b-dcde-4677-9a58-9adff26ec762",
   "metadata": {},
   "outputs": [
    {
     "name": "stdin",
     "output_type": "stream",
     "text": [
      "Enter amount:  4000\n",
      "Enter category (e.g. Food, Rent, Salary):  rent\n",
      "Type? (income/expense):  expense\n"
     ]
    },
    {
     "name": "stdout",
     "output_type": "stream",
     "text": [
      "Transaction added!\n"
     ]
    }
   ],
   "source": [
    "import csv\n",
    "from datetime import datetime\n",
    "\n",
    "def add_transaction():\n",
    "    amount = float(input(\"Enter amount: \"))\n",
    "    category = input(\"Enter category (e.g. Food, Rent, Salary): \")\n",
    "    t_type = input(\"Type? (income/expense): \").lower()\n",
    "    date = datetime.now().strftime(\"%Y-%m-%d\")\n",
    "    \n",
    "    with open(\"transactions.csv\", mode=\"a\", newline=\"\") as file:\n",
    "        writer = csv.writer(file)\n",
    "        writer.writerow([date, category, amount, t_type]) \n",
    "    \n",
    "    print(\"Transaction added!\")\n",
    "\n",
    "add_transaction()\n"
   ]
  },
  {
   "cell_type": "code",
   "execution_count": 2,
   "id": "421c5d15-0be3-4f4b-a731-89ae3e5cd1d5",
   "metadata": {},
   "outputs": [
    {
     "name": "stdout",
     "output_type": "stream",
     "text": [
      "Date         | Category        | Amount     | Type\n",
      "--------------------------------------------------\n",
      "2025-06-22   | rent            | 4000.0     | expense\n"
     ]
    }
   ],
   "source": [
    "import csv\n",
    "\n",
    "def view_transactions():\n",
    "    try:\n",
    "        with open(\"transactions.csv\", mode=\"r\") as file:\n",
    "            reader = csv.reader(file)\n",
    "            transactions = list(reader)\n",
    "            \n",
    "            if not transactions:\n",
    "                print(\"No transactions found.\")\n",
    "                return\n",
    "\n",
    "            print(f\"{'Date':<12} | {'Category':<15} | {'Amount':<10} | {'Type'}\")\n",
    "            print(\"-\" * 50)\n",
    "            for row in transactions:\n",
    "                date, category, amount, t_type = row\n",
    "                print(f\"{date:<12} | {category:<15} | {amount:<10} | {t_type}\")\n",
    "    except FileNotFoundError:\n",
    "        print(\"No transactions yet. File not found.\")\n",
    "\n",
    "view_transactions()\n"
   ]
  },
  {
   "cell_type": "code",
   "execution_count": 3,
   "id": "dc9f1648-5a2e-4aa9-abc9-2dc1801876de",
   "metadata": {},
   "outputs": [
    {
     "name": "stdout",
     "output_type": "stream",
     "text": [
      "\n",
      "--- Summary ---\n",
      "Total Income : ₹0.00\n",
      "Total Expenses: ₹4000.00\n",
      "Net Balance  : ₹-4000.00\n"
     ]
    }
   ],
   "source": [
    "def summarize_transactions():\n",
    "    try:\n",
    "        with open(\"transactions.csv\", mode=\"r\") as file:\n",
    "            reader = csv.reader(file)\n",
    "            income_total = 0\n",
    "            expense_total = 0\n",
    "\n",
    "            for row in reader:\n",
    "                if len(row) < 4:\n",
    "                    continue  # Skip incomplete rows\n",
    "                _, _, amount, t_type = row\n",
    "                amount = float(amount)\n",
    "                if t_type.lower() == \"income\":\n",
    "                    income_total += amount\n",
    "                elif t_type.lower() == \"expense\":\n",
    "                    expense_total += amount\n",
    "\n",
    "            net_balance = income_total - expense_total\n",
    "\n",
    "            print(\"\\n--- Summary ---\")\n",
    "            print(f\"Total Income : ₹{income_total:.2f}\")\n",
    "            print(f\"Total Expenses: ₹{expense_total:.2f}\")\n",
    "            print(f\"Net Balance  : ₹{net_balance:.2f}\")\n",
    "\n",
    "    except FileNotFoundError:\n",
    "        print(\"No transactions yet. File not found.\")\n",
    "\n",
    "summarize_transactions()\n"
   ]
  },
  {
   "cell_type": "code",
   "execution_count": 4,
   "id": "daabcd7f-e3f1-4404-83c2-68bf8c67e9f4",
   "metadata": {},
   "outputs": [
    {
     "data": {
      "image/png": "[encoded data removed]",
      "text/plain": [
       "<Figure size 600x600 with 1 Axes>"
      ]
     },
     "metadata": {},
     "output_type": "display_data"
    }
   ],
   "source": [
    "import matplotlib.pyplot as plt\n",
    "\n",
    "def plot_expense_pie():\n",
    "    try:\n",
    "        with open(\"transactions.csv\", mode=\"r\") as file:\n",
    "            reader = csv.reader(file)\n",
    "            category_totals = {}\n",
    "\n",
    "            for row in reader:\n",
    "                if len(row) < 4:\n",
    "                    continue\n",
    "                _, category, amount, t_type = row\n",
    "                amount = float(amount)\n",
    "\n",
    "                if t_type.lower() == \"expense\":\n",
    "                    category_totals[category] = category_totals.get(category, 0) + amount\n",
    "\n",
    "            if not category_totals:\n",
    "                print(\"No expense data to plot.\")\n",
    "                return\n",
    "\n",
    "            labels = category_totals.keys()\n",
    "            sizes = category_totals.values()\n",
    "\n",
    "            plt.figure(figsize=(6,6))\n",
    "            plt.pie(sizes, labels=labels, autopct='%1.1f%%', startangle=140)\n",
    "            plt.title(\"Expenses by Category\")\n",
    "            plt.axis('equal')  # Keeps the pie chart circular\n",
    "            plt.show()\n",
    "\n",
    "    except FileNotFoundError:\n",
    "        print(\"transactions.csv not found.\")\n",
    "\n",
    "plot_expense_pie()\n"
   ]
  },
  {
   "cell_type": "code",
   "execution_count": 5,
   "id": "16b81e2d-7f99-423a-8f7b-c78190898486",
   "metadata": {},
   "outputs": [
    {
     "data": {
      "image/png": "[encoded data removed]",
      "text/plain": [
       "<Figure size 640x480 with 1 Axes>"
      ]
     },
     "metadata": {},
     "output_type": "display_data"
    }
   ],
   "source": [
    "def plot_income_vs_expense():\n",
    "    try:\n",
    "        with open(\"transactions.csv\", mode=\"r\") as file:\n",
    "            reader = csv.reader(file)\n",
    "            income = 0\n",
    "            expense = 0\n",
    "\n",
    "            for row in reader:\n",
    "                if len(row) < 4:\n",
    "                    continue\n",
    "                _, _, amount, t_type = row\n",
    "                amount = float(amount)\n",
    "                if t_type.lower() == \"income\":\n",
    "                    income += amount\n",
    "                elif t_type.lower() == \"expense\":\n",
    "                    expense += amount\n",
    "\n",
    "            labels = ['Income', 'Expense']\n",
    "            values = [income, expense]\n",
    "            colors = ['green', 'red']\n",
    "\n",
    "            plt.bar(labels, values, color=colors)\n",
    "            plt.title(\"Income vs Expense\")\n",
    "            plt.ylabel(\"Amount (₹)\")\n",
    "            plt.show()\n",
    "\n",
    "    except FileNotFoundError:\n",
    "        print(\"transactions.csv not found.\")\n",
    "\n",
    "plot_income_vs_expense()\n"
   ]
  },
  {
   "cell_type": "code",
   "execution_count": 6,
   "id": "62ef7df9-2751-434d-a55f-f8c3f70f658c",
   "metadata": {},
   "outputs": [
    {
     "name": "stdout",
     "output_type": "stream",
     "text": [
      "\n",
      "--- Personal Budget Tracker ---\n",
      "1. Add Transaction\n",
      "2. View Transactions\n",
      "3. Show Summary\n",
      "4. Show Expense Pie Chart\n",
      "5. Show Income vs Expense Chart\n",
      "6. Exit\n"
     ]
    },
    {
     "name": "stdin",
     "output_type": "stream",
     "text": [
      "Choose an option (1-6):  2\n"
     ]
    },
    {
     "name": "stdout",
     "output_type": "stream",
     "text": [
      "Date         | Category        | Amount     | Type\n",
      "--------------------------------------------------\n",
      "2025-06-22   | rent            | 4000.0     | expense\n",
      "\n",
      "--- Personal Budget Tracker ---\n",
      "1. Add Transaction\n",
      "2. View Transactions\n",
      "3. Show Summary\n",
      "4. Show Expense Pie Chart\n",
      "5. Show Income vs Expense Chart\n",
      "6. Exit\n"
     ]
    },
    {
     "name": "stdin",
     "output_type": "stream",
     "text": [
      "Choose an option (1-6):  6\n"
     ]
    },
    {
     "name": "stdout",
     "output_type": "stream",
     "text": [
      "Goodbye!\n"
     ]
    }
   ],
   "source": [
    "def menu():\n",
    "    while True:\n",
    "        print(\"\\n--- Personal Budget Tracker ---\")\n",
    "        print(\"1. Add Transaction\")\n",
    "        print(\"2. View Transactions\")\n",
    "        print(\"3. Show Summary\")\n",
    "        print(\"4. Show Expense Pie Chart\")\n",
    "        print(\"5. Show Income vs Expense Chart\")\n",
    "        print(\"6. Exit\")\n",
    "        choice = input(\"Choose an option (1-6): \")\n",
    "\n",
    "        if choice == '1':\n",
    "            add_transaction()\n",
    "        elif choice == '2':\n",
    "            view_transactions()\n",
    "        elif choice == '3':\n",
    "            summarize_transactions()\n",
    "        elif choice == '4':\n",
    "            plot_expense_pie()\n",
    "        elif choice == '5':\n",
    "            plot_income_vs_expense()\n",
    "        elif choice == '6':\n",
    "            print(\"Goodbye!\")\n",
    "            break\n",
    "        else:\n",
    "            print(\"Invalid choice. Try again.\")\n",
    "\n",
    "menu()"
   ]
  },
  {
   "cell_type": "code",
   "execution_count": null,
   "id": "2d8ab7c1-32dd-4fce-b3c7-9519bbbda468",
   "metadata": {},
   "outputs": [],
   "source": []
  }
 ],
 "metadata": {
  "kernelspec": {
   "display_name": "Python [conda env:base] *",
   "language": "python",
   "name": "conda-base-py"
  },
  "language_info": {
   "codemirror_mode": {
    "name": "ipython",
    "version": 3
   },
   "file_extension": ".py",
   "mimetype": "text/x-python",
   "name": "python",
   "nbconvert_exporter": "python",
   "pygments_lexer": "ipython3",
   "version": "3.12.4"
  }
 },
 "nbformat": 4,
 "nbformat_minor": 5
}
